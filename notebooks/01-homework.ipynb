{
  "nbformat": 4,
  "nbformat_minor": 0,
  "metadata": {
    "colab": {
      "provenance": [],
      "gpuType": "T4"
    },
    "kernelspec": {
      "name": "python3",
      "display_name": "Python 3"
    },
    "language_info": {
      "name": "python"
    },
    "accelerator": "GPU"
  },
  "cells": [
    {
      "cell_type": "markdown",
      "source": [
        "# Git\n",
        "\n",
        "`git init` - инициализировать репозиторий\n",
        "\n",
        "`git add .` - добавить все файлы к отслеживанию\n",
        "\n",
        "`git commit -m \"commit message\"` - сделать коммит с названием commit message\n",
        "\n",
        "`git push origin master` - сделать пуш в удаленный репозиторий origin в ветку master\n",
        "\n",
        "`git pull` - подтянуть изменения\n",
        "\n",
        "`git branch new-feature` - сделать ветку new-feature\n",
        "\n",
        "`git checkout new-feature` - перейти на ветку new-feature\n",
        "\n",
        "`git log` - посмотреть историю коммитов\n",
        "\n",
        "`git log --all --decorate --oneline --graph` - посмотреть красивую историю коммитов\n",
        "\n",
        "`git checkout 978be83` - перейти к коммиту 978be83\n",
        "\n",
        "При создании репозитория на github, будут написаны команды как запушить код в первый раз"
      ],
      "metadata": {
        "id": "GfgwsZbGcTCQ"
      }
    },
    {
      "cell_type": "markdown",
      "source": [
        "## Задача - учимся коммитить\n",
        "\n",
        "Последовательно сделать следующее:\n",
        "\n",
        "1. Создать новую папку test_git\n",
        "\n",
        "2. Инициализировать репозиторий\n",
        "\n",
        "3. Сделать текстовый файл 1.txt, заполнить его по своему усмотрению\n",
        "\n",
        "4. Сделать коммит\n",
        "\n",
        "5. Сделать новую ветку second-file, перейти в нее\n",
        "\n",
        "6. Закоммитить новый файл 2.txt с произвольным содержимым\n",
        "\n",
        "7. Перейти к master-ветке, проверить, что файл 2.txt остался в другой ветке\n",
        "\n",
        "8. Замержить ветку second-file в master"
      ],
      "metadata": {
        "id": "cvMlmEBJceX5"
      }
    },
    {
      "cell_type": "markdown",
      "source": [
        "## Задача - создаем конфликты\n",
        "\n",
        "1. В ветке master создаем файл 3.txt и что-то туда пишем\n",
        "2. В ветке second-file создаем файл 3.txt и пишем туда что-то другое\n",
        "3. Мержим second-file в master и решаем конфликт"
      ],
      "metadata": {
        "id": "WnO8pWoiclMK"
      }
    },
    {
      "cell_type": "markdown",
      "source": [
        "## Материалы по питону (для самых заинтересованных)\n",
        "\n",
        "https://drive.google.com/drive/folders/1EdPbnImcIt0Hrjy56FveACdM-uc2anCP?usp=sharing"
      ],
      "metadata": {
        "id": "aropHxQVdP2p"
      }
    },
    {
      "cell_type": "markdown",
      "source": [
        "## Задача 1.\n",
        "\n",
        "Нужно написать функцию, которая определяет, является ли переданная строка палиндромом.\n",
        "\n",
        "Примеры палиндромов:\n",
        "- Казак\n",
        "- А роза упала на лапу Азора\n",
        "- Do geese see God?\n",
        "- Madam, I’m Adam\n",
        "\n",
        "Ограничение по памяти - исходную строку нельзя копировать.\n",
        "\n",
        "Необходимо исключить все non alpha-numerical символы, и считать большие и маленькие буквы равными.\n",
        "\n"
      ],
      "metadata": {
        "id": "zOwAopRPhz5Q"
      }
    },
    {
      "cell_type": "code",
      "source": [
        "def solution_1(s):\n",
        "    pass"
      ],
      "metadata": {
        "id": "W9iIsD87jVeo"
      },
      "execution_count": 1,
      "outputs": []
    },
    {
      "cell_type": "markdown",
      "source": [],
      "metadata": {
        "id": "PleKO30BZrGi"
      }
    },
    {
      "cell_type": "code",
      "source": [
        "import re\n",
        "\n",
        "examples = [\n",
        "    'Казак',\n",
        "    'А роза упала на лапу Азора',\n",
        "    'Do geese see God?',\n",
        "    'Madam, I’m Adam'\n",
        "]\n",
        "\n",
        "def test_solution_1():\n",
        "    def non_optimal_solution(s):\n",
        "        regex = re.compile('[^a-zA-Zа-яА-Я]')\n",
        "        clean = regex.sub('', s).lower()\n",
        "        return clean == clean[::-1]\n",
        "\n",
        "    for example in examples:\n",
        "        assert non_optimal_solution(example) == solution_1(example)\n",
        "\n"
      ],
      "metadata": {
        "id": "Uo8dSXWsiuWz"
      },
      "execution_count": 2,
      "outputs": []
    },
    {
      "cell_type": "markdown",
      "source": [
        "## Задача 2.\n",
        "\n",
        "Дан текст T и строка S. Требуется найти подстроку S' в T такую, что она совпадает с S с точностью до перестановки букв.\n",
        "В качестве ответа стоит вернуть индекс первого вхождения, или -1, если такая подстрока S' не нашлась.\n",
        "\n",
        "Задача со звездочкой: решить за O(|T|)"
      ],
      "metadata": {
        "id": "gdpFNPfPitfd"
      }
    },
    {
      "cell_type": "code",
      "source": [
        "def solution_2(t, s):\n",
        "    pass"
      ],
      "metadata": {
        "id": "X1hLqxvVitLM"
      },
      "execution_count": 3,
      "outputs": []
    },
    {
      "cell_type": "code",
      "source": [
        "solution_2('cab', 'ba')\n",
        "solution_2('cab', 'bacscs')\n",
        "solution_2('321', '')"
      ],
      "metadata": {
        "id": "th8XZH8Wq3uk"
      },
      "execution_count": 4,
      "outputs": []
    },
    {
      "cell_type": "markdown",
      "source": [
        "# Домашнее задание\n",
        "\n",
        "Установить Anaconda и Git. Создать репозиторий на GitHub.\n",
        "\n",
        "## Easy (+0.1)\n",
        "\n",
        "Написать функцию, которая на вход принимает список, а возвращает словарь со среднием, медианой и модой, например вот такой: `{\"mean\": ..., \"median\": ..., \"mode\": ...}`.\n",
        "\n",
        "Пример:\n",
        "\n",
        "```python\n",
        "\n",
        "func([0, 1, 1, 10, 5, 4, 3])\n",
        "\n",
        "# Должно вернуть: {\"mean\": 3.4285, \"median\": 3, \"mode\": 1}\n",
        "\n",
        "```\n",
        "\n",
        "## Medium (+0.4)\n",
        "\n",
        "https://www.kaggle.com/datasets/databanditofficial/dota-hero-stats\n",
        "\n",
        "Написать функцию, которая будет парсить csv-файл dota_hero_stats.csv\n",
        "\n",
        "Сигнатура функции:\n",
        "\n",
        "```\n",
        "def parse_csv(file_content: str) -> List[Dict]\n",
        "```\n",
        "\n",
        "Найти персонажа с максимальным количеством ног (сторонние библиотеки использовать нельзя)\n",
        "\n",
        "\n",
        "## Hard (+ в карму)\n",
        "\n",
        "Придумать меру близости между двумя персонажами, описать текстом, реализовать кодом. Мера должна использовать все содержательные колонки: attack_type, legs, primary_attr, roles\n",
        "\n",
        "Найти двух персонажей, которые наиболее близки друг к другу.\n",
        "\n",
        "Также нельзя использовать сторонние библиотеки.\n",
        "\n",
        "\n",
        "## Байка\n",
        "\n",
        "В реально жизни, конечно, уже написаны парсеры для основных форматов данных, но кто вам гарантирует, что ваши данные будут в нужном формате? Нужно уметь парсить разные странные форматы данных.\n",
        "\n",
        "Когда-то я работал в компании, которая не умела в DWH и хранила все данные в продовых базах. Ну, \"базах\". Это были терабайты xml-файлов, поверх которых была настроена репликация и прод умел быстро по ним искать. Конечно же, эти xml-файлы были неструктурированы, пришлось освоить специальный язык для индексации по xml-файлам - xpath - чтобы привести данные в хоть сколько-то табличный вид. Парсер имел отвратительный код, а данные на выходе были еще хуже. А через пару месяцев я уволился оттуда и дальше проект не полетел (надеюсь, это независимые события). Какой вывод? Держите данные в DWH в понятном и удобном формате и не храните данные в проде в xml."
      ],
      "metadata": {
        "id": "EugYe2AVTJnB"
      }
    },
    {
      "cell_type": "markdown",
      "source": [
        "Easy"
      ],
      "metadata": {
        "id": "dJ10uu5_4VWW"
      }
    },
    {
      "cell_type": "code",
      "execution_count": 5,
      "metadata": {
        "id": "4w4pKwBBShQt",
        "colab": {
          "base_uri": "https://localhost:8080/"
        },
        "outputId": "4a116684-48b8-4104-8fa9-df390a7f9d4a"
      },
      "outputs": [
        {
          "output_type": "execute_result",
          "data": {
            "text/plain": [
              "{'mean': 3.4285714285714284, 'median': 3, 'mode': 1}"
            ]
          },
          "metadata": {},
          "execution_count": 5
        }
      ],
      "source": [
        "def func(array: list[int]) -> dict[str, float]:\n",
        "    result = {\"mean\": 0, \"median\": 0, \"mode\": 0}\n",
        "\n",
        "    array.sort()\n",
        "    result[\"mean\"] = sum(array) / len(array)\n",
        "\n",
        "    middle_index = (len(array) - 1) // 2\n",
        "    if len(array) % 2:\n",
        "        result[\"median\"] = array[middle_index]\n",
        "    else:\n",
        "        result[\"median\"] = (array[middle_index] + array[middle_index + 1]) / 2\n",
        "\n",
        "    result[\"mode\"] = max(set(array), key=array.count)\n",
        "\n",
        "    return result\n",
        "\n",
        "func([0, 1, 1, 10, 5, 4, 3])"
      ]
    },
    {
      "cell_type": "markdown",
      "source": [
        "Medium"
      ],
      "metadata": {
        "id": "YhN9crLbIa9W"
      }
    },
    {
      "cell_type": "code",
      "source": [
        "def get_max_legs_hero(content: list[dict]) -> dict:\n",
        "    needed_hero, max_legs = {}, 0\n",
        "\n",
        "    for hero in content:\n",
        "        if max_legs < int(hero['legs']):\n",
        "            needed_hero = hero\n",
        "            max_legs = int(hero['legs'])\n",
        "\n",
        "    return needed_hero\n",
        "\n",
        "\n",
        "def parse_csv(file_content: str) -> list[dict]:\n",
        "    def preprocessing(row: str) -> str:\n",
        "        row = row.split(',')\n",
        "        return list(map(str.strip, row))\n",
        "\n",
        "\n",
        "    head = preprocessing(next(file_content))[1:]\n",
        "    content = []\n",
        "\n",
        "    for hero in file_content:\n",
        "        hero_stat = {}\n",
        "        temp_parse = hero.split('[')\n",
        "        main_info, roles = temp_parse[0], temp_parse[1]\n",
        "\n",
        "        # parsing main info\n",
        "        main_info = preprocessing(main_info)[1:]\n",
        "        #parsing roles\n",
        "        roles = roles.split(\"]\")[0]\n",
        "        roles = preprocessing(roles)\n",
        "\n",
        "        # filling hero stat\n",
        "        for i, column in enumerate(head):\n",
        "            hero_stat[column] = main_info[i]\n",
        "\n",
        "        hero_stat[\"roles\"] = roles\n",
        "        content.append(hero_stat)\n",
        "\n",
        "    return content\n"
      ],
      "metadata": {
        "id": "MGHcMTNSIc-b"
      },
      "execution_count": 6,
      "outputs": []
    },
    {
      "cell_type": "markdown",
      "source": [
        "открываем файл, тестируем"
      ],
      "metadata": {
        "id": "nFSTGIjqKmh9"
      }
    },
    {
      "cell_type": "markdown",
      "source": [
        "подгружаем dota_hero_stats.csv"
      ],
      "metadata": {
        "id": "ydhtu-nUIffO"
      }
    },
    {
      "cell_type": "code",
      "source": [
        "from google.colab import files\n",
        "files.upload()"
      ],
      "metadata": {
        "id": "Z866YxoKIYYd"
      },
      "execution_count": null,
      "outputs": []
    },
    {
      "cell_type": "code",
      "source": [
        "with open('dota_hero_stats.csv', 'r') as hero_stats:\n",
        "    dataset = parse_csv(hero_stats)\n",
        "    print(get_max_legs_hero(dataset))"
      ],
      "metadata": {
        "colab": {
          "base_uri": "https://localhost:8080/"
        },
        "id": "6ZKe7QsrKl2y",
        "outputId": "65bf090e-8cda-440c-b3e7-a650e69ef83d"
      },
      "execution_count": 8,
      "outputs": [
        {
          "output_type": "stream",
          "name": "stdout",
          "text": [
            "{'attack_type': 'Melee', 'id': '61', 'legs': '8', 'localized_name': 'Broodmother', 'name': 'npc_dota_hero_broodmother', 'primary_attr': 'agi', 'roles': [\"'Carry'\", \"'Pusher'\", \"'Escape'\", \"'Nuker'\"]}\n"
          ]
        }
      ]
    },
    {
      "cell_type": "markdown",
      "source": [
        "hard"
      ],
      "metadata": {
        "id": "PH4c285cem5L"
      }
    },
    {
      "cell_type": "code",
      "source": [
        "# getting the dota heros dataset\n",
        "with open('dota_hero_stats.csv', 'r') as hero_stats:\n",
        "    dataset = parse_csv(hero_stats)\n",
        ""
      ],
      "metadata": {
        "id": "0sVVhxE4elKS"
      },
      "execution_count": 9,
      "outputs": []
    },
    {
      "cell_type": "code",
      "source": [
        "# range of the metric is [0, 4]\n",
        "# we'll add separately for each attribute\n",
        "# for legs we'll just compute distance btween values over total max value (8)\n",
        "# also for the leg attribute we will normalize the result so that the value is from 0 to 1\n",
        "\n",
        "\n",
        "def compare_heros(hero_1: dict, hero_2: dict) -> float:\n",
        "    def roles_compare(hero_1_roles: list[str], hero_2_roles: list[str]) -> float:\n",
        "        common_roles = len(set(hero_1_roles) & set(hero_2_roles))\n",
        "        rolls_count = len(hero_1_roles) + len(hero_2_roles)\n",
        "\n",
        "        return 1 - common_roles/rolls_count\n",
        "\n",
        "    def legs_compare(hero_1: dict, hero_2: dict) -> float:\n",
        "        # distance between legs count\n",
        "        distance = int(hero_1['legs']) - int(hero_2['legs'])\n",
        "        # normalize to get a [0, 1] result, 8 is the max legs count overall\n",
        "        return ((distance)**2)**0.5 / 8\n",
        "\n",
        "    total_result = 0\n",
        "    total_result += roles_compare(hero_1['roles'], hero_2['roles'])\n",
        "    total_result += int(hero_1['attack_type'] != hero_2['attack_type'])\n",
        "    total_result += int(hero_1['primary_attr'] != hero_2['primary_attr'])\n",
        "    total_result += legs_compare(hero_1, hero_2)\n",
        "\n",
        "    return total_result"
      ],
      "metadata": {
        "id": "cHpB-qFJexYf"
      },
      "execution_count": 12,
      "outputs": []
    },
    {
      "cell_type": "markdown",
      "source": [
        "заполучим двух наиболее близких друг к другу персонажей"
      ],
      "metadata": {
        "id": "ouz6_RKZNdSv"
      }
    },
    {
      "cell_type": "code",
      "source": [
        "minimum_value: float = 4\n",
        "h1 = 0\n",
        "h2 = 0\n",
        "for i, hero_1 in enumerate(dataset):\n",
        "    for j, hero_2 in enumerate(dataset):\n",
        "        res = compare_heros(hero_1, hero_2)\n",
        "        if minimum_value > res and i != j:\n",
        "            h1 = hero_1\n",
        "            h2 = hero_2\n",
        "            minimum_value = res\n",
        "\n",
        "\n",
        "print(minimum_value)\n",
        "print(h1)\n",
        "print(h2)"
      ],
      "metadata": {
        "colab": {
          "base_uri": "https://localhost:8080/"
        },
        "id": "XIUGZU0-9wWb",
        "outputId": "3a7ae3e8-bb8f-4004-9a30-4d5849cb4ec4"
      },
      "execution_count": 13,
      "outputs": [
        {
          "output_type": "stream",
          "name": "stdout",
          "text": [
            "0.5\n",
            "{'attack_type': 'Ranged', 'id': '5', 'legs': '2', 'localized_name': 'Crystal Maiden', 'name': 'npc_dota_hero_crystal_maiden', 'primary_attr': 'int', 'roles': [\"'Support'\", \"'Disabler'\", \"'Nuker'\", \"'Jungler'\"]}\n",
            "{'attack_type': 'Ranged', 'id': '90', 'legs': '2', 'localized_name': 'Keeper of the Light', 'name': 'npc_dota_hero_keeper_of_the_light', 'primary_attr': 'int', 'roles': [\"'Support'\", \"'Nuker'\", \"'Disabler'\", \"'Jungler'\"]}\n"
          ]
        }
      ]
    }
  ]
}
