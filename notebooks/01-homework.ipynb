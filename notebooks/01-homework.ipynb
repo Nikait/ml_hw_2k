{
  "nbformat": 4,
  "nbformat_minor": 0,
  "metadata": {
    "colab": {
      "provenance": [],
      "gpuType": "T4"
    },
    "kernelspec": {
      "name": "python3",
      "display_name": "Python 3"
    },
    "language_info": {
      "name": "python"
    },
    "accelerator": "GPU"
  },
  "cells": [
    {
      "cell_type": "markdown",
      "source": [
        "# Git\n",
        "\n",
        "`git init` - инициализировать репозиторий\n",
        "\n",
        "`git add .` - добавить все файлы к отслеживанию\n",
        "\n",
        "`git commit -m \"commit message\"` - сделать коммит с названием commit message\n",
        "\n",
        "`git push origin master` - сделать пуш в удаленный репозиторий origin в ветку master\n",
        "\n",
        "`git pull` - подтянуть изменения\n",
        "\n",
        "`git branch new-feature` - сделать ветку new-feature\n",
        "\n",
        "`git checkout new-feature` - перейти на ветку new-feature\n",
        "\n",
        "`git log` - посмотреть историю коммитов\n",
        "\n",
        "`git log --all --decorate --oneline --graph` - посмотреть красивую историю коммитов\n",
        "\n",
        "`git checkout 978be83` - перейти к коммиту 978be83\n",
        "\n",
        "При создании репозитория на github, будут написаны команды как запушить код в первый раз"
      ],
      "metadata": {
        "id": "GfgwsZbGcTCQ"
      }
    },
    {
      "cell_type": "markdown",
      "source": [
        "## Задача - учимся коммитить\n",
        "\n",
        "Последовательно сделать следующее:\n",
        "\n",
        "1. Создать новую папку test_git\n",
        "\n",
        "2. Инициализировать репозиторий\n",
        "\n",
        "3. Сделать текстовый файл 1.txt, заполнить его по своему усмотрению\n",
        "\n",
        "4. Сделать коммит\n",
        "\n",
        "5. Сделать новую ветку second-file, перейти в нее\n",
        "\n",
        "6. Закоммитить новый файл 2.txt с произвольным содержимым\n",
        "\n",
        "7. Перейти к master-ветке, проверить, что файл 2.txt остался в другой ветке\n",
        "\n",
        "8. Замержить ветку second-file в master"
      ],
      "metadata": {
        "id": "cvMlmEBJceX5"
      }
    },
    {
      "cell_type": "markdown",
      "source": [
        "## Задача - создаем конфликты\n",
        "\n",
        "1. В ветке master создаем файл 3.txt и что-то туда пишем\n",
        "2. В ветке second-file создаем файл 3.txt и пишем туда что-то другое\n",
        "3. Мержим second-file в master и решаем конфликт"
      ],
      "metadata": {
        "id": "WnO8pWoiclMK"
      }
    },
    {
      "cell_type": "markdown",
      "source": [
        "## Материалы по питону (для самых заинтересованных)\n",
        "\n",
        "https://drive.google.com/drive/folders/1EdPbnImcIt0Hrjy56FveACdM-uc2anCP?usp=sharing"
      ],
      "metadata": {
        "id": "aropHxQVdP2p"
      }
    },
    {
      "cell_type": "markdown",
      "source": [
        "## Задача 1.\n",
        "\n",
        "Нужно написать функцию, которая определяет, является ли переданная строка палиндромом.\n",
        "\n",
        "Примеры палиндромов:\n",
        "- Казак\n",
        "- А роза упала на лапу Азора\n",
        "- Do geese see God?\n",
        "- Madam, I’m Adam\n",
        "\n",
        "Ограничение по памяти - исходную строку нельзя копировать.\n",
        "\n",
        "Необходимо исключить все non alpha-numerical символы, и считать большие и маленькие буквы равными.\n",
        "\n"
      ],
      "metadata": {
        "id": "zOwAopRPhz5Q"
      }
    },
    {
      "cell_type": "code",
      "source": [
        "def solution_1(s):\n",
        "    pass"
      ],
      "metadata": {
        "id": "W9iIsD87jVeo"
      },
      "execution_count": 10,
      "outputs": []
    },
    {
      "cell_type": "markdown",
      "source": [],
      "metadata": {
        "id": "PleKO30BZrGi"
      }
    },
    {
      "cell_type": "code",
      "source": [
        "import re\n",
        "\n",
        "examples = [\n",
        "    'Казак',\n",
        "    'А роза упала на лапу Азора',\n",
        "    'Do geese see God?',\n",
        "    'Madam, I’m Adam'\n",
        "]\n",
        "\n",
        "def test_solution_1():\n",
        "    def non_optimal_solution(s):\n",
        "        regex = re.compile('[^a-zA-Zа-яА-Я]')\n",
        "        clean = regex.sub('', s).lower()\n",
        "        return clean == clean[::-1]\n",
        "\n",
        "    for example in examples:\n",
        "        assert non_optimal_solution(example) == solution_1(example)\n",
        "\n"
      ],
      "metadata": {
        "id": "Uo8dSXWsiuWz"
      },
      "execution_count": 11,
      "outputs": []
    },
    {
      "cell_type": "markdown",
      "source": [
        "## Задача 2.\n",
        "\n",
        "Дан текст T и строка S. Требуется найти подстроку S' в T такую, что она совпадает с S с точностью до перестановки букв.\n",
        "В качестве ответа стоит вернуть индекс первого вхождения, или -1, если такая подстрока S' не нашлась.\n",
        "\n",
        "Задача со звездочкой: решить за O(|T|)"
      ],
      "metadata": {
        "id": "gdpFNPfPitfd"
      }
    },
    {
      "cell_type": "code",
      "source": [
        "def solution_2(t, s):\n",
        "    pass"
      ],
      "metadata": {
        "id": "X1hLqxvVitLM"
      },
      "execution_count": 12,
      "outputs": []
    },
    {
      "cell_type": "code",
      "source": [
        "solution_2('cab', 'ba')\n",
        "solution_2('cab', 'bacscs')\n",
        "solution_2('321', '')"
      ],
      "metadata": {
        "id": "th8XZH8Wq3uk"
      },
      "execution_count": 13,
      "outputs": []
    },
    {
      "cell_type": "markdown",
      "source": [
        "# Домашнее задание\n",
        "\n",
        "Установить Anaconda и Git. Создать репозиторий на GitHub.\n",
        "\n",
        "## Easy (+0.1)\n",
        "\n",
        "Написать функцию, которая на вход принимает список, а возвращает словарь со среднием, медианой и модой, например вот такой: `{\"mean\": ..., \"median\": ..., \"mode\": ...}`.\n",
        "\n",
        "Пример:\n",
        "\n",
        "```python\n",
        "\n",
        "func([0, 1, 1, 10, 5, 4, 3])\n",
        "\n",
        "# Должно вернуть: {\"mean\": 3.4285, \"median\": 3, \"mode\": 1}\n",
        "\n",
        "```\n",
        "\n",
        "## Medium (+0.4)\n",
        "\n",
        "https://www.kaggle.com/datasets/databanditofficial/dota-hero-stats\n",
        "\n",
        "Написать функцию, которая будет парсить csv-файл dota_hero_stats.csv\n",
        "\n",
        "Сигнатура функции:\n",
        "\n",
        "```\n",
        "def parse_csv(file_content: str) -> List[Dict]\n",
        "```\n",
        "\n",
        "Найти персонажа с максимальным количеством ног (сторонние библиотеки использовать нельзя)\n",
        "\n",
        "\n",
        "## Hard (+ в карму)\n",
        "\n",
        "Придумать меру близости между двумя персонажами, описать текстом, реализовать кодом. Мера должна использовать все содержательные колонки: attack_type, legs, primary_attr, roles\n",
        "\n",
        "Найти двух персонажей, которые наиболее близки друг к другу.\n",
        "\n",
        "Также нельзя использовать сторонние библиотеки.\n",
        "\n",
        "\n",
        "## Байка\n",
        "\n",
        "В реально жизни, конечно, уже написаны парсеры для основных форматов данных, но кто вам гарантирует, что ваши данные будут в нужном формате? Нужно уметь парсить разные странные форматы данных.\n",
        "\n",
        "Когда-то я работал в компании, которая не умела в DWH и хранила все данные в продовых базах. Ну, \"базах\". Это были терабайты xml-файлов, поверх которых была настроена репликация и прод умел быстро по ним искать. Конечно же, эти xml-файлы были неструктурированы, пришлось освоить специальный язык для индексации по xml-файлам - xpath - чтобы привести данные в хоть сколько-то табличный вид. Парсер имел отвратительный код, а данные на выходе были еще хуже. А через пару месяцев я уволился оттуда и дальше проект не полетел (надеюсь, это независимые события). Какой вывод? Держите данные в DWH в понятном и удобном формате и не храните данные в проде в xml."
      ],
      "metadata": {
        "id": "EugYe2AVTJnB"
      }
    },
    {
      "cell_type": "markdown",
      "source": [
        "Easy"
      ],
      "metadata": {
        "id": "dJ10uu5_4VWW"
      }
    },
    {
      "cell_type": "code",
      "execution_count": 14,
      "metadata": {
        "id": "4w4pKwBBShQt",
        "colab": {
          "base_uri": "https://localhost:8080/"
        },
        "outputId": "5c985330-2b62-4aec-91bf-881d4c26b9cd"
      },
      "outputs": [
        {
          "output_type": "execute_result",
          "data": {
            "text/plain": [
              "{'mean': 3.4285714285714284, 'median': 3, 'mode': 1}"
            ]
          },
          "metadata": {},
          "execution_count": 14
        }
      ],
      "source": [
        "def func(array: list[int]) -> dict[str, float]:\n",
        "    result = {\"mean\": 0, \"median\": 0, \"mode\": 0}\n",
        "\n",
        "    array.sort()\n",
        "    result[\"mean\"] = sum(array) / len(array)\n",
        "\n",
        "    middle_index = (len(array) - 1) // 2\n",
        "    if len(array) % 2:\n",
        "        result[\"median\"] = array[middle_index]\n",
        "    else:\n",
        "        result[\"median\"] = (array[middle_index] + array[middle_index + 1]) / 2\n",
        "\n",
        "    result[\"mode\"] = max(set(array), key=array.count)\n",
        "\n",
        "    return result\n",
        "\n",
        "func([0, 1, 1, 10, 5, 4, 3])"
      ]
    },
    {
      "cell_type": "markdown",
      "source": [
        "Medium"
      ],
      "metadata": {
        "id": "YhN9crLbIa9W"
      }
    },
    {
      "cell_type": "code",
      "source": [
        "def get_max_legs_hero(content: list[dict]) -> dict:\n",
        "    needed_hero, max_legs = {}, 0\n",
        "\n",
        "    for hero in content:\n",
        "        if max_legs < int(hero['legs']):\n",
        "            needed_hero = hero\n",
        "            max_legs = int(hero['legs'])\n",
        "\n",
        "    return needed_hero\n",
        "\n",
        "\n",
        "def parse_csv(file_content: str) -> list[dict]:\n",
        "    def preprocessing(row: str) -> str:\n",
        "        row = row.split(',')\n",
        "        return list(map(str.strip, row))\n",
        "\n",
        "\n",
        "    head = preprocessing(next(file_content))[1:]\n",
        "    content = []\n",
        "\n",
        "    for hero in file_content:\n",
        "        hero_stat = {}\n",
        "        temp_parse = hero.split('[')\n",
        "        main_info, roles = temp_parse[0], temp_parse[1]\n",
        "\n",
        "        # parsing main info\n",
        "        main_info = preprocessing(main_info)[1:]\n",
        "        #parsing roles\n",
        "        roles = roles.split(\"]\")[0]\n",
        "        roles = preprocessing(roles)\n",
        "\n",
        "        # filling hero stat\n",
        "        for i, column in enumerate(head):\n",
        "            hero_stat[column] = main_info[i]\n",
        "\n",
        "        hero_stat[\"roles\"] = roles\n",
        "        content.append(hero_stat)\n",
        "\n",
        "    return content\n"
      ],
      "metadata": {
        "id": "MGHcMTNSIc-b"
      },
      "execution_count": 15,
      "outputs": []
    },
    {
      "cell_type": "markdown",
      "source": [
        "открываем файл, тестируем"
      ],
      "metadata": {
        "id": "nFSTGIjqKmh9"
      }
    },
    {
      "cell_type": "markdown",
      "source": [
        "подгружаем dota_hero_stats.csv"
      ],
      "metadata": {
        "id": "ydhtu-nUIffO"
      }
    },
    {
      "cell_type": "code",
      "source": [
        "from google.colab import files\n",
        "files.upload()"
      ],
      "metadata": {
        "colab": {
          "base_uri": "https://localhost:8080/",
          "height": 56
        },
        "id": "Z866YxoKIYYd",
        "outputId": "6d71fbd9-c8a8-4219-f212-b9c45979b845"
      },
      "execution_count": 16,
      "outputs": [
        {
          "output_type": "display_data",
          "data": {
            "text/plain": [
              "<IPython.core.display.HTML object>"
            ],
            "text/html": [
              "\n",
              "     <input type=\"file\" id=\"files-cf6766fd-d39f-42c5-b236-b1518b3c4e16\" name=\"files[]\" multiple disabled\n",
              "        style=\"border:none\" />\n",
              "     <output id=\"result-cf6766fd-d39f-42c5-b236-b1518b3c4e16\">\n",
              "      Upload widget is only available when the cell has been executed in the\n",
              "      current browser session. Please rerun this cell to enable.\n",
              "      </output>\n",
              "      <script>// Copyright 2017 Google LLC\n",
              "//\n",
              "// Licensed under the Apache License, Version 2.0 (the \"License\");\n",
              "// you may not use this file except in compliance with the License.\n",
              "// You may obtain a copy of the License at\n",
              "//\n",
              "//      http://www.apache.org/licenses/LICENSE-2.0\n",
              "//\n",
              "// Unless required by applicable law or agreed to in writing, software\n",
              "// distributed under the License is distributed on an \"AS IS\" BASIS,\n",
              "// WITHOUT WARRANTIES OR CONDITIONS OF ANY KIND, either express or implied.\n",
              "// See the License for the specific language governing permissions and\n",
              "// limitations under the License.\n",
              "\n",
              "/**\n",
              " * @fileoverview Helpers for google.colab Python module.\n",
              " */\n",
              "(function(scope) {\n",
              "function span(text, styleAttributes = {}) {\n",
              "  const element = document.createElement('span');\n",
              "  element.textContent = text;\n",
              "  for (const key of Object.keys(styleAttributes)) {\n",
              "    element.style[key] = styleAttributes[key];\n",
              "  }\n",
              "  return element;\n",
              "}\n",
              "\n",
              "// Max number of bytes which will be uploaded at a time.\n",
              "const MAX_PAYLOAD_SIZE = 100 * 1024;\n",
              "\n",
              "function _uploadFiles(inputId, outputId) {\n",
              "  const steps = uploadFilesStep(inputId, outputId);\n",
              "  const outputElement = document.getElementById(outputId);\n",
              "  // Cache steps on the outputElement to make it available for the next call\n",
              "  // to uploadFilesContinue from Python.\n",
              "  outputElement.steps = steps;\n",
              "\n",
              "  return _uploadFilesContinue(outputId);\n",
              "}\n",
              "\n",
              "// This is roughly an async generator (not supported in the browser yet),\n",
              "// where there are multiple asynchronous steps and the Python side is going\n",
              "// to poll for completion of each step.\n",
              "// This uses a Promise to block the python side on completion of each step,\n",
              "// then passes the result of the previous step as the input to the next step.\n",
              "function _uploadFilesContinue(outputId) {\n",
              "  const outputElement = document.getElementById(outputId);\n",
              "  const steps = outputElement.steps;\n",
              "\n",
              "  const next = steps.next(outputElement.lastPromiseValue);\n",
              "  return Promise.resolve(next.value.promise).then((value) => {\n",
              "    // Cache the last promise value to make it available to the next\n",
              "    // step of the generator.\n",
              "    outputElement.lastPromiseValue = value;\n",
              "    return next.value.response;\n",
              "  });\n",
              "}\n",
              "\n",
              "/**\n",
              " * Generator function which is called between each async step of the upload\n",
              " * process.\n",
              " * @param {string} inputId Element ID of the input file picker element.\n",
              " * @param {string} outputId Element ID of the output display.\n",
              " * @return {!Iterable<!Object>} Iterable of next steps.\n",
              " */\n",
              "function* uploadFilesStep(inputId, outputId) {\n",
              "  const inputElement = document.getElementById(inputId);\n",
              "  inputElement.disabled = false;\n",
              "\n",
              "  const outputElement = document.getElementById(outputId);\n",
              "  outputElement.innerHTML = '';\n",
              "\n",
              "  const pickedPromise = new Promise((resolve) => {\n",
              "    inputElement.addEventListener('change', (e) => {\n",
              "      resolve(e.target.files);\n",
              "    });\n",
              "  });\n",
              "\n",
              "  const cancel = document.createElement('button');\n",
              "  inputElement.parentElement.appendChild(cancel);\n",
              "  cancel.textContent = 'Cancel upload';\n",
              "  const cancelPromise = new Promise((resolve) => {\n",
              "    cancel.onclick = () => {\n",
              "      resolve(null);\n",
              "    };\n",
              "  });\n",
              "\n",
              "  // Wait for the user to pick the files.\n",
              "  const files = yield {\n",
              "    promise: Promise.race([pickedPromise, cancelPromise]),\n",
              "    response: {\n",
              "      action: 'starting',\n",
              "    }\n",
              "  };\n",
              "\n",
              "  cancel.remove();\n",
              "\n",
              "  // Disable the input element since further picks are not allowed.\n",
              "  inputElement.disabled = true;\n",
              "\n",
              "  if (!files) {\n",
              "    return {\n",
              "      response: {\n",
              "        action: 'complete',\n",
              "      }\n",
              "    };\n",
              "  }\n",
              "\n",
              "  for (const file of files) {\n",
              "    const li = document.createElement('li');\n",
              "    li.append(span(file.name, {fontWeight: 'bold'}));\n",
              "    li.append(span(\n",
              "        `(${file.type || 'n/a'}) - ${file.size} bytes, ` +\n",
              "        `last modified: ${\n",
              "            file.lastModifiedDate ? file.lastModifiedDate.toLocaleDateString() :\n",
              "                                    'n/a'} - `));\n",
              "    const percent = span('0% done');\n",
              "    li.appendChild(percent);\n",
              "\n",
              "    outputElement.appendChild(li);\n",
              "\n",
              "    const fileDataPromise = new Promise((resolve) => {\n",
              "      const reader = new FileReader();\n",
              "      reader.onload = (e) => {\n",
              "        resolve(e.target.result);\n",
              "      };\n",
              "      reader.readAsArrayBuffer(file);\n",
              "    });\n",
              "    // Wait for the data to be ready.\n",
              "    let fileData = yield {\n",
              "      promise: fileDataPromise,\n",
              "      response: {\n",
              "        action: 'continue',\n",
              "      }\n",
              "    };\n",
              "\n",
              "    // Use a chunked sending to avoid message size limits. See b/62115660.\n",
              "    let position = 0;\n",
              "    do {\n",
              "      const length = Math.min(fileData.byteLength - position, MAX_PAYLOAD_SIZE);\n",
              "      const chunk = new Uint8Array(fileData, position, length);\n",
              "      position += length;\n",
              "\n",
              "      const base64 = btoa(String.fromCharCode.apply(null, chunk));\n",
              "      yield {\n",
              "        response: {\n",
              "          action: 'append',\n",
              "          file: file.name,\n",
              "          data: base64,\n",
              "        },\n",
              "      };\n",
              "\n",
              "      let percentDone = fileData.byteLength === 0 ?\n",
              "          100 :\n",
              "          Math.round((position / fileData.byteLength) * 100);\n",
              "      percent.textContent = `${percentDone}% done`;\n",
              "\n",
              "    } while (position < fileData.byteLength);\n",
              "  }\n",
              "\n",
              "  // All done.\n",
              "  yield {\n",
              "    response: {\n",
              "      action: 'complete',\n",
              "    }\n",
              "  };\n",
              "}\n",
              "\n",
              "scope.google = scope.google || {};\n",
              "scope.google.colab = scope.google.colab || {};\n",
              "scope.google.colab._files = {\n",
              "  _uploadFiles,\n",
              "  _uploadFilesContinue,\n",
              "};\n",
              "})(self);\n",
              "</script> "
            ]
          },
          "metadata": {}
        },
        {
          "output_type": "execute_result",
          "data": {
            "text/plain": [
              "{}"
            ]
          },
          "metadata": {},
          "execution_count": 16
        }
      ]
    },
    {
      "cell_type": "code",
      "source": [
        "with open('dota_hero_stats.csv', 'r') as hero_stats:\n",
        "    dataset = parse_csv(hero_stats)\n",
        "    print(get_max_legs_hero(dataset))"
      ],
      "metadata": {
        "colab": {
          "base_uri": "https://localhost:8080/"
        },
        "id": "6ZKe7QsrKl2y",
        "outputId": "08ac760a-dbc4-40a4-8762-e5e672590c61"
      },
      "execution_count": 17,
      "outputs": [
        {
          "output_type": "stream",
          "name": "stdout",
          "text": [
            "{'attack_type': 'Melee', 'id': '61', 'legs': '8', 'localized_name': 'Broodmother', 'name': 'npc_dota_hero_broodmother', 'primary_attr': 'agi', 'roles': [\"'Carry'\", \"'Pusher'\", \"'Escape'\", \"'Nuker'\"]}\n"
          ]
        }
      ]
    }
  ]
}
